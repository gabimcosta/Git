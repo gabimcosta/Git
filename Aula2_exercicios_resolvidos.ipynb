{
  "nbformat": 4,
  "nbformat_minor": 5,
  "metadata": {
    "kernelspec": {
      "display_name": "Python 3",
      "language": "python",
      "name": "python3"
    },
    "language_info": {
      "codemirror_mode": {
        "name": "ipython",
        "version": 3
      },
      "file_extension": ".py",
      "mimetype": "text/x-python",
      "name": "python",
      "nbconvert_exporter": "python",
      "pygments_lexer": "ipython3",
      "version": "3.8.5"
    },
    "colab": {
      "name": "Aula2_exercicios_resolvidos.ipynb",
      "provenance": [],
      "include_colab_link": true
    }
  },
  "cells": [
    {
      "cell_type": "markdown",
      "metadata": {
        "id": "view-in-github",
        "colab_type": "text"
      },
      "source": [
        "<a href=\"https://colab.research.google.com/github/gabimcosta/Git/blob/Adicionado1/Aula2_exercicios_resolvidos.ipynb\" target=\"_parent\"><img src=\"https://colab.research.google.com/assets/colab-badge.svg\" alt=\"Open In Colab\"/></a>"
      ]
    },
    {
      "cell_type": "markdown",
      "metadata": {
        "id": "8264b715"
      },
      "source": [
        "# Exercícios - Aula 02\n",
        "___\n",
        "\n",
        "1. Crie uma lista 'a_list' com os seguintes valores: 1, hello, [1,2,3] e True.\n",
        "2. Ache o valor em 'a_list' que esteja no índice -1.\n",
        "3. Encontre os valores em 'a_list' que estejam nos indices 1,2 e 3.\n",
        "4. Junte as seguinte listas a=[1,2,3,4,5] e b=[11,12,13,14,15]\n",
        "5. Crie uma lista de listas 'list_list' que tenha os valores de 'a_list', 'a' e 'b'\n",
        "6. Qual o tamanho de 'list_list'?\n",
        "7. Adicione o valor 125 ao final de 'list_list'.\n",
        "8. Remova a lista [1,2,3] de 'list_list' e guarde esse valor numa variável 'list_a'.\n",
        "9. Qual é o primeiro valor do segundo valor de [[1,3,5,7],[2,4,6,8,10]]?\n",
        "10. Crie a tupla 'gnr' com os seguintes valores: rock, metal, sertanejo, pop, lo-fi e chillwave, nessa ordem.\n",
        "11. Qual o terceiro valor da tupla 'gnr'?\n",
        "12. Qual o índice de lofi?\n",
        "13. Crie uma tupla de tuplas com as seguintes tuplas (15,30), (20,40) e (25,50). Como acessar o valor 40?\n",
        "14. Acesse a tupla 'gnr' a cada dois valores, qual gêneros musicais aparecem?\n",
        "16. Crie o dicionário 'mcu' com os seguintes dados, 'Homem de Ferro':2008, 'Homem de Ferro 2':2010, 'Homem de ferro 3':2013, 'Avengers: Endgame':2019.\n",
        "\n",
        "    a - No dicionário 'mcu' quais são os valores?\n",
        "\n",
        "    b - No dicińario 'mcu' quais são as chaves?\n",
        "\n",
        "    c - Adicione ao dicionário 'mcu' os seguintes filmes: 'Avengers Infinity War':2018, 'Avengers Age of Ultron':2015.\n",
        "\n",
        "    d - Delete o filme 'Homem de Ferro 3' do dicionário 'mcu'\n",
        "\n",
        "    e - Limpe o dicionário 'mcu'\n",
        "\n",
        "17. Popule o dicionário vazio 'mcu' com as informações abaixo:\n",
        "\n",
        "'homem de ferro':{'filmes':3,'ator principal':'Robert Downey Jr.'},'Cpt.América':{'filmes':3,'ator principal':'Chris Evans'}\n",
        "\n",
        "18. Acesse somente a quantidade de filmes de cada uma das chaves do dicionário MCU.\n",
        "\n",
        "19. Quais são as chaves do dicionário de dicionários 'mcu'?\n",
        "\n",
        "20. Qual o tamanho do dicionário de dicionários 'mcu'?"
      ],
      "id": "8264b715"
    },
    {
      "cell_type": "markdown",
      "metadata": {
        "id": "SDPoU185dUxv"
      },
      "source": [
        "--------"
      ],
      "id": "SDPoU185dUxv"
    },
    {
      "cell_type": "markdown",
      "metadata": {
        "id": "yIW9fipIaxRk"
      },
      "source": [
        "EXECÍCIO 1 - 2 - 3\n",
        "\n",
        "Crie uma lista 'a_list' com os seguintes valores: 1, hello, [1,2,3] e True\n",
        "\n",
        "Ache o valor em 'a_list' que esteja no índice -1.\n",
        "\n",
        "Encontre os valores em 'a_list' que estejam nos indices 1,2 e 3"
      ],
      "id": "yIW9fipIaxRk"
    },
    {
      "cell_type": "code",
      "metadata": {
        "colab": {
          "base_uri": "https://localhost:8080/"
        },
        "id": "3JnUAkcna0zF",
        "outputId": "6f6e03ef-6dc5-4831-c3ca-ab3b31337c9c"
      },
      "source": [
        "a_list = [1, 'hello', [1,2,3], True]\n",
        "\n",
        "print(a_list[-1])\n",
        "\n",
        "print(a_list[1:4])"
      ],
      "id": "3JnUAkcna0zF",
      "execution_count": 8,
      "outputs": [
        {
          "output_type": "stream",
          "text": [
            "True\n",
            "['hello', [1, 2, 3], True]\n"
          ],
          "name": "stdout"
        }
      ]
    },
    {
      "cell_type": "markdown",
      "metadata": {
        "id": "l71CDOfDbHQt"
      },
      "source": [
        "EXERCÍCIO 4 E 5\n",
        "\n",
        "Junte as seguinte listas a=[1,2,3,4,5] e b=[11,12,13,14,15]"
      ],
      "id": "l71CDOfDbHQt"
    },
    {
      "cell_type": "code",
      "metadata": {
        "colab": {
          "base_uri": "https://localhost:8080/"
        },
        "id": "vk-x7TNjbXt9",
        "outputId": "75fa4d67-895d-45e9-ee32-f6ed9ec4164a"
      },
      "source": [
        "a=[1,2,3,4,5]\n",
        "b=[11,12,13,14,15]\n",
        "\n",
        "a_b = a + b\n",
        "print(a_b)\n",
        "\n",
        "list_list = a_list + a_b\n",
        "print(list_list)"
      ],
      "id": "vk-x7TNjbXt9",
      "execution_count": 18,
      "outputs": [
        {
          "output_type": "stream",
          "text": [
            "[1, 2, 3, 4, 5, 11, 12, 13, 14, 15]\n",
            "[1, 'hello', [1, 2, 3], True, 1, 2, 3, 4, 5, 11, 12, 13, 14, 15]\n"
          ],
          "name": "stdout"
        }
      ]
    },
    {
      "cell_type": "markdown",
      "metadata": {
        "id": "O5FQT6xjdCyE"
      },
      "source": [
        "EXERCÍCIO 6\n",
        "\n",
        "Qual o tamanho de 'list_list'?"
      ],
      "id": "O5FQT6xjdCyE"
    },
    {
      "cell_type": "code",
      "metadata": {
        "colab": {
          "base_uri": "https://localhost:8080/"
        },
        "id": "itNBJPxEdF3f",
        "outputId": "8fe2f36c-2054-4456-bc1d-541848880f77"
      },
      "source": [
        "len(list_list)"
      ],
      "id": "itNBJPxEdF3f",
      "execution_count": 19,
      "outputs": [
        {
          "output_type": "execute_result",
          "data": {
            "text/plain": [
              "14"
            ]
          },
          "metadata": {
            "tags": []
          },
          "execution_count": 19
        }
      ]
    },
    {
      "cell_type": "markdown",
      "metadata": {
        "id": "8hQc0gnudmSO"
      },
      "source": [
        "EXERCÍCIO 7\n",
        "\n",
        "Adicione o valor 125 ao final de 'list_list'"
      ],
      "id": "8hQc0gnudmSO"
    },
    {
      "cell_type": "code",
      "metadata": {
        "colab": {
          "base_uri": "https://localhost:8080/"
        },
        "id": "bQLp1EFpdNbT",
        "outputId": "4fd86b49-046c-4f66-ea64-c480c0354165"
      },
      "source": [
        "list_list.append(125)\n",
        "list_list"
      ],
      "id": "bQLp1EFpdNbT",
      "execution_count": 23,
      "outputs": [
        {
          "output_type": "execute_result",
          "data": {
            "text/plain": [
              "[1, 'hello', 1, 2, 3, 4, 5, 11, 12, 13, 14, 15, 125, 125]"
            ]
          },
          "metadata": {
            "tags": []
          },
          "execution_count": 23
        }
      ]
    },
    {
      "cell_type": "markdown",
      "metadata": {
        "id": "E93qh6w7jCk4"
      },
      "source": [
        "EXERCICIO 8\n",
        "\n",
        "Remova a lista [1,2,3] de 'list_list' e guarde esse valor numa variável 'list_a'"
      ],
      "id": "E93qh6w7jCk4"
    },
    {
      "cell_type": "markdown",
      "metadata": {
        "id": "Z33ajJr6rTxx"
      },
      "source": [
        ">>==*COMO* GUARDAR ESSE RESULTADO EM UMA VARIAVEL 'list_a'"
      ],
      "id": "Z33ajJr6rTxx"
    },
    {
      "cell_type": "code",
      "metadata": {
        "colab": {
          "base_uri": "https://localhost:8080/"
        },
        "id": "YJ5IgyaqdxhH",
        "outputId": "28934eda-1142-4ada-b6f0-31ccfe9a4c76"
      },
      "source": [
        "list_list.pop(2)\n",
        "print(list_list)"
      ],
      "id": "YJ5IgyaqdxhH",
      "execution_count": 24,
      "outputs": [
        {
          "output_type": "stream",
          "text": [
            "[1, 'hello', 2, 3, 4, 5, 11, 12, 13, 14, 15, 125, 125]\n"
          ],
          "name": "stdout"
        }
      ]
    },
    {
      "cell_type": "markdown",
      "metadata": {
        "id": "9vWouxgir5nY"
      },
      "source": [
        "EXERCICIO 9\n",
        "\n",
        "Qual é o primeiro valor do segundo valor de [[1,3,5,7],[2,4,6,8,10]]?"
      ],
      "id": "9vWouxgir5nY"
    },
    {
      "cell_type": "code",
      "metadata": {
        "colab": {
          "base_uri": "https://localhost:8080/"
        },
        "id": "l2Oc3q8nr5Oe",
        "outputId": "dc1fc6ad-e6b7-43a5-adef-15a24d67e796"
      },
      "source": [
        "lista = [[1,3,5,7],[2,4,6,8,10]]\n",
        "lista[1][0]"
      ],
      "id": "l2Oc3q8nr5Oe",
      "execution_count": null,
      "outputs": [
        {
          "output_type": "execute_result",
          "data": {
            "text/plain": [
              "2"
            ]
          },
          "metadata": {
            "tags": []
          },
          "execution_count": 27
        }
      ]
    },
    {
      "cell_type": "markdown",
      "metadata": {
        "id": "5mXxQcB7sL_Y"
      },
      "source": [
        "EXERCÍCIO 10 A 12\n",
        "\n",
        "Crie a tupla 'gnr' com os seguintes valores: rock, metal, sertanejo, pop, lo-fi e chillwave, nessa ordem.\n",
        "\n",
        "Qual o terceiro valor da tupla 'gnr'?\n",
        "\n",
        "Qual o índice de lofi?\n"
      ],
      "id": "5mXxQcB7sL_Y"
    },
    {
      "cell_type": "code",
      "metadata": {
        "colab": {
          "base_uri": "https://localhost:8080/"
        },
        "id": "sZrnyOjnjNFh",
        "outputId": "8ea7dbdd-3fb9-410f-cfa8-6a9ea69193fa"
      },
      "source": [
        "gnr = ('rock', 'metal', 'sertanejo', 'pop', 'lo-fi', 'chillwave')\n",
        "gnr"
      ],
      "id": "sZrnyOjnjNFh",
      "execution_count": null,
      "outputs": [
        {
          "output_type": "execute_result",
          "data": {
            "text/plain": [
              "('rock', 'metal', 'sertanejo', 'pop', 'lo-fi', 'chillwave')"
            ]
          },
          "metadata": {
            "tags": []
          },
          "execution_count": 29
        }
      ]
    },
    {
      "cell_type": "code",
      "metadata": {
        "colab": {
          "base_uri": "https://localhost:8080/",
          "height": 35
        },
        "id": "wIJ0fDSUsYpB",
        "outputId": "7e3f3df4-60a0-4471-9425-77f51a95d59d"
      },
      "source": [
        "gnr[2]"
      ],
      "id": "wIJ0fDSUsYpB",
      "execution_count": null,
      "outputs": [
        {
          "output_type": "execute_result",
          "data": {
            "application/vnd.google.colaboratory.intrinsic+json": {
              "type": "string"
            },
            "text/plain": [
              "'sertanejo'"
            ]
          },
          "metadata": {
            "tags": []
          },
          "execution_count": 30
        }
      ]
    },
    {
      "cell_type": "code",
      "metadata": {
        "colab": {
          "base_uri": "https://localhost:8080/"
        },
        "id": "h9dNJjoEs5sg",
        "outputId": "d843cc48-36bf-451e-eb6c-b5ecf5b40f62"
      },
      "source": [
        "gnr.index('lo-fi')"
      ],
      "id": "h9dNJjoEs5sg",
      "execution_count": null,
      "outputs": [
        {
          "output_type": "execute_result",
          "data": {
            "text/plain": [
              "4"
            ]
          },
          "metadata": {
            "tags": []
          },
          "execution_count": 31
        }
      ]
    },
    {
      "cell_type": "markdown",
      "metadata": {
        "id": "ls5x1uaatJ8R"
      },
      "source": [
        "EXERCÍCIO 13\n",
        "\n",
        "Crie uma tupla de tuplas com as seguintes tuplas (15,30), (20,40) e (25,50). Como acessar o valor 40?\n"
      ],
      "id": "ls5x1uaatJ8R"
    },
    {
      "cell_type": "code",
      "metadata": {
        "colab": {
          "base_uri": "https://localhost:8080/"
        },
        "id": "Tc3eTF67tAMX",
        "outputId": "f5f422bc-a826-41f9-c415-b0ad0edc270b"
      },
      "source": [
        "tupla_tupla = ((15,30), (20,40), (25,50))\n",
        "tupla_tupla[1][1]"
      ],
      "id": "Tc3eTF67tAMX",
      "execution_count": null,
      "outputs": [
        {
          "output_type": "execute_result",
          "data": {
            "text/plain": [
              "40"
            ]
          },
          "metadata": {
            "tags": []
          },
          "execution_count": 35
        }
      ]
    },
    {
      "cell_type": "markdown",
      "metadata": {
        "id": "S1EZEK8JuFnf"
      },
      "source": [
        "EXERCÍCIO 14\n",
        "\n",
        "Acesse a tupla 'gnr' a cada dois valores, qual gêneros musicais aparecem?"
      ],
      "id": "S1EZEK8JuFnf"
    },
    {
      "cell_type": "code",
      "metadata": {
        "colab": {
          "base_uri": "https://localhost:8080/"
        },
        "id": "vr8fLXX-tq9H",
        "outputId": "7f5c064a-5f10-4bcc-fceb-55274dec2835"
      },
      "source": [
        "gnr[::2]"
      ],
      "id": "vr8fLXX-tq9H",
      "execution_count": null,
      "outputs": [
        {
          "output_type": "execute_result",
          "data": {
            "text/plain": [
              "('rock', 'sertanejo', 'lo-fi')"
            ]
          },
          "metadata": {
            "tags": []
          },
          "execution_count": 36
        }
      ]
    },
    {
      "cell_type": "markdown",
      "metadata": {
        "id": "Wm3NKQixvF4z"
      },
      "source": [
        "EXERCÍCIO 15\n",
        "\n",
        "Crie o dicionário 'mcu' com os seguintes dados, 'Homem de Ferro':2008, 'Homem de Ferro 2':2010, 'Homem de ferro 3':2013, 'Avengers: Endgame':2019.\n",
        "\n",
        "a - No dicionário 'mcu' quais são os valores?\n",
        "\n",
        "b - No dicińario 'mcu' quais são as chaves?\n",
        "\n",
        "c - Adicione ao dicionário 'mcu' os seguintes filmes: 'Avengers Infinity War':2018, 'Avengers Age of Ultron':2015.\n",
        "\n",
        "d - Delete o filme 'Homem de Ferro 3' do dicionário 'mcu'\n",
        "\n",
        "e - Limpe o dicionário 'mcu'"
      ],
      "id": "Wm3NKQixvF4z"
    },
    {
      "cell_type": "code",
      "metadata": {
        "id": "kjucow4nuk91",
        "colab": {
          "base_uri": "https://localhost:8080/"
        },
        "outputId": "284bde79-128f-4c81-ee63-72923ca03431"
      },
      "source": [
        "mcu = {'Homem de Ferro':2008, 'Homem de Ferro 2':2010, 'Homem de ferro 3':2013, 'Avengers: Endgame':2019}\n",
        "\n",
        "print('os valores sao: ', mcu.values()) # são os valores\n",
        "print('as chaves sao: ', mcu.keys()) # são as chaves\n",
        "\n",
        "mcu['Avengers Infinity War'] = 2018 #adicionando dado ao dicionario\n",
        "mcu['Avengers Age of Ultron'] = 2015\n",
        "\n",
        "print('a lista com os novos titulos é: ', mcu)\n",
        "\n",
        "mcu.pop('Homem de ferro 3')\n",
        "print('a lista sem homem de ferro 3 é: ', mcu)\n",
        "\n",
        "mcu_limpa = mcu.clear()\n",
        "print('dicionario limpo ', mcu)"
      ],
      "id": "kjucow4nuk91",
      "execution_count": 53,
      "outputs": [
        {
          "output_type": "stream",
          "text": [
            "os valores sao:  dict_values([2008, 2010, 2013, 2019])\n",
            "as chaves sao:  dict_keys(['Homem de Ferro', 'Homem de Ferro 2', 'Homem de ferro 3', 'Avengers: Endgame'])\n",
            "a lista com os novos titulos é:  {'Homem de Ferro': 2008, 'Homem de Ferro 2': 2010, 'Homem de ferro 3': 2013, 'Avengers: Endgame': 2019, 'Avengers Infinity War': 2018, 'Avengers Age of Ultron': 2015}\n",
            "a lista sem homem de ferro 3 é:  {'Homem de Ferro': 2008, 'Homem de Ferro 2': 2010, 'Avengers: Endgame': 2019, 'Avengers Infinity War': 2018, 'Avengers Age of Ultron': 2015}\n",
            "dicionario limpo  {}\n"
          ],
          "name": "stdout"
        }
      ]
    },
    {
      "cell_type": "markdown",
      "metadata": {
        "id": "9T8TDNo8y_4H"
      },
      "source": [
        "Popule o dicionário vazio 'mcu' com as informações abaixo:\n",
        "\n",
        "'homem de ferro':{'filmes':3,'ator principal':'Robert Downey Jr.'},'Cpt.América':{'filmes':3,'ator principal':'Chris Evans'}\n",
        "\n",
        "Acesse somente a quantidade de filmes de cada uma das chaves do dicionário MCU.\n",
        "\n",
        "Quais são as chaves do dicionário de dicionários 'mcu'?\n",
        "\n",
        "Qual o tamanho do dicionário de dicionários 'mcu'?"
      ],
      "id": "9T8TDNo8y_4H"
    },
    {
      "cell_type": "code",
      "metadata": {
        "id": "2FbZr29SGC7H",
        "colab": {
          "base_uri": "https://localhost:8080/"
        },
        "outputId": "6dfddb4b-7206-4513-b959-fea3b784d172"
      },
      "source": [
        "mcu['homem de ferro'] = {'filmes':3,'ator principal':'Robert Downey Jr.'} #adicionando chhave mais valor\n",
        "mcu['cpt.america'] = {'filmes':3,'ator principal':'Chris Evans'}\n",
        "print(mcu)\n",
        "\n",
        "print('as chaves sao: ', mcu.keys()) # são as chaves\n",
        "\n",
        "print('o tamanho do dicionario é ', len(mcu)) # definindo o tamanho de mcu"
      ],
      "id": "2FbZr29SGC7H",
      "execution_count": 71,
      "outputs": [
        {
          "output_type": "stream",
          "text": [
            "{'homem de ferro': {'filmes': 3, 'ator principal': 'Robert Downey Jr.'}, 'cpt.america': {'filmes': 3, 'ator principal': 'Chris Evans'}}\n",
            "as chaves sao:  dict_keys(['homem de ferro', 'cpt.america'])\n",
            "o tamanho do dicionario é  2\n"
          ],
          "name": "stdout"
        }
      ]
    },
    {
      "cell_type": "code",
      "metadata": {
        "id": "QfA6JqzF2bTc"
      },
      "source": [
        ""
      ],
      "id": "QfA6JqzF2bTc",
      "execution_count": null,
      "outputs": []
    }
  ]
}