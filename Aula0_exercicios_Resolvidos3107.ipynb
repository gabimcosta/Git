{
  "nbformat": 4,
  "nbformat_minor": 5,
  "metadata": {
    "kernelspec": {
      "display_name": "Python 3",
      "language": "python",
      "name": "python3"
    },
    "language_info": {
      "codemirror_mode": {
        "name": "ipython",
        "version": 3
      },
      "file_extension": ".py",
      "mimetype": "text/x-python",
      "name": "python",
      "nbconvert_exporter": "python",
      "pygments_lexer": "ipython3",
      "version": "3.8.5"
    },
    "colab": {
      "name": "Aula0_exercicios_Resolvidos3107.ipynb",
      "provenance": [],
      "toc_visible": true,
      "include_colab_link": true
    }
  },
  "cells": [
    {
      "cell_type": "markdown",
      "metadata": {
        "id": "view-in-github",
        "colab_type": "text"
      },
      "source": [
        "<a href=\"https://colab.research.google.com/github/gabimcosta/Git/blob/Adicionado1/Aula0_exercicios_Resolvidos3107.ipynb\" target=\"_parent\"><img src=\"https://colab.research.google.com/assets/colab-badge.svg\" alt=\"Open In Colab\"/></a>"
      ]
    },
    {
      "cell_type": "markdown",
      "metadata": {
        "id": "NvQkw01PXZOq"
      },
      "source": [
        "# EXERCÍCIOS"
      ],
      "id": "NvQkw01PXZOq"
    },
    {
      "cell_type": "markdown",
      "metadata": {
        "id": "38e88a1b"
      },
      "source": [
        "## Exercícios - Aula 0\n",
        "___\n",
        "\n",
        "1. Crie um algoritmo que pergunte a idade do usuário, transforme a idade enviada para ```float```, calcule a idade em meses, calcule a idade em dias e mostre o resultado de cada operação. Considere que todos os anos possuem exatamente 365 dias.\n",
        "\n",
        "2. Crie um algoritmo que pergunte o primeiro nome, guarde na variável ```primeiro_nome```, pergunte o sobrenome , guarda na variável ```sobrenome```. Por fim o algoritmo deve printar a soma das duas variáveis com uma saudação (de sua escolha) ao usuário.\n",
        "\n",
        "3. No açougue do Seu Joaquim o contra-filé é R\\$39.99 o kilo. Monte um algoritmo para calcular o valor pago caso você compre 5, 10, 15, 2.5 e 5.75 kilos.\n",
        "\n",
        "4. Execute todas as operações aritiméticas básicas (adição, subtração, divisão e multiplicação) com as variáveis 'a' e 'b' abaixo.\n",
        "\n",
        "> a = 15<br>\n",
        "b = 12\n",
        "\n",
        "5. Tente calcular o seu IMC utilizando somente operações matemáticas. Dica: o IMC é calculado da seguinte forma: IMC = peso / (altura em metros * altura em metros)\n",
        "\n",
        "6. Sua professora de português pediu para você escrever a frase 'português é maravilhoso' 50 vezes. Como resolver esse problema com python? Demonstre sua solução.\n",
        "\n",
        "7. Um modelo de regressão linear possui a seguinte fórmula: y=0.253*x + 125. Qual será o valor de Y quando X for 125?\n",
        "\n",
        "8. Cria uma variável chamada ```a```, atribua o valor 15 para ela. Na linha abaixo escreva a = b = 15. Qual será o valor de ```a```?\n",
        "\n",
        "9. É possível criar uma variável chamada ```1_2_3_variavel```? Se não, qual o motivo?\n",
        "\n",
        "10. Crie uma variável chamada ```temp_em_graus``` e atribua a temperatura de hoje a ela. Crie uma segunda ```temp_em_f``` e guarde a transformação do valor da primeira variável de graus para Fahrenheit."
      ],
      "id": "38e88a1b"
    },
    {
      "cell_type": "markdown",
      "metadata": {
        "id": "R-EuQQjEXkcI"
      },
      "source": [
        "# RESOLUÇÕES"
      ],
      "id": "R-EuQQjEXkcI"
    },
    {
      "cell_type": "markdown",
      "metadata": {
        "id": "uceCnv6bXsmP"
      },
      "source": [
        "1\n",
        "Crie um algoritmo que pergunte a idade do usuário, transforme a idade enviada para float, calcule a idade em meses, calcule a idade em dias e mostre o resultado de cada operação. Considere que todos os anos possuem exatamente 365 dias."
      ],
      "id": "uceCnv6bXsmP"
    },
    {
      "cell_type": "code",
      "metadata": {
        "colab": {
          "base_uri": "https://localhost:8080/"
        },
        "id": "i7NB4GyLdjYd",
        "outputId": "1b984220-8121-4995-e889-aa8c7ed8c354"
      },
      "source": [
        "idade_usuario = (input(\"Qual á sua idade? \"))\n",
        "print(type(idade_usuario))\n",
        "print(\"Idade do usuário: \" + idade_usuario)\n",
        "\n",
        "# idade em meses\n",
        "print('A idade em meses é; ' , int(idade_usuario)*12) # transaformei str em float para conseguir calcular\n",
        "\n",
        "# idade em dias\n",
        "print('A idade em dias é; ' , int(idade_usuario)*12 * 30) # transaformei str em float para conseguir calcular"
      ],
      "id": "i7NB4GyLdjYd",
      "execution_count": 64,
      "outputs": [
        {
          "output_type": "stream",
          "text": [
            "Qual á sua idade? 34\n",
            "<class 'str'>\n",
            "Idade do usuário: 34\n",
            "A idade em meses é;  408\n",
            "A idade em dias é;  12240\n"
          ],
          "name": "stdout"
        }
      ]
    },
    {
      "cell_type": "markdown",
      "metadata": {
        "id": "AmWuSQRmfhi9"
      },
      "source": [
        "2\n",
        "Crie um algoritmo que pergunte o primeiro nome, guarde na variável primeiro_nome, pergunte o sobrenome , guarda na variável sobrenome. Por fim o algoritmo deve printar a soma das duas variáveis com uma saudação (de sua escolha) ao usuário."
      ],
      "id": "AmWuSQRmfhi9"
    },
    {
      "cell_type": "code",
      "metadata": {
        "id": "oaIKtGeQZLrM"
      },
      "source": [
        "primeiro_nome = input('Digite o primeiro nome: ')\n",
        "segundo_nome = input('Digite o segundo nome: ')\n",
        "print('Olá ' + primeiro_nome + ' ' + segundo_nome)"
      ],
      "id": "oaIKtGeQZLrM",
      "execution_count": null,
      "outputs": []
    },
    {
      "cell_type": "markdown",
      "metadata": {
        "id": "5GCHj_3sgRD9"
      },
      "source": [
        "3\n",
        "No açougue do Seu Joaquim o contra-filé é R$39.99 o kilo. Monte um algoritmo para calcular o valor pago caso você compre 5, 10, 15, 2.5 e 5.75 kilos."
      ],
      "id": "5GCHj_3sgRD9"
    },
    {
      "cell_type": "code",
      "metadata": {
        "id": "mmLWO5FagSRa"
      },
      "source": [
        "valor_produto = 39.99 #defini o valor do preço\n",
        "\n",
        "lista_quantidades = [5, 10, 15, 2.5, 5.75] #defini a lista\n",
        "\n",
        "def valor_a_pagar(lista_quantidades): #criei uma funcao para interar cada qnt na lista \n",
        "    for quantidade in lista_quantidades:\n",
        "        print('O valor a pagar por ', quantidade, ' Kg é: ', round(quantidade*valor_produto)) # printar todas as quantidades\n",
        "\n",
        "print(valor_a_pagar(lista_quantidades))"
      ],
      "id": "mmLWO5FagSRa",
      "execution_count": null,
      "outputs": []
    },
    {
      "cell_type": "markdown",
      "metadata": {
        "id": "eS1-HDeSm5Q-"
      },
      "source": [
        "4\n",
        "Execute todas as operações aritiméticas básicas (adição, subtração, divisão e multiplicação) com as variáveis 'a' e 'b' abaixo.\n",
        "\n",
        "a = 15\n",
        "b = 12"
      ],
      "id": "eS1-HDeSm5Q-"
    },
    {
      "cell_type": "code",
      "metadata": {
        "colab": {
          "base_uri": "https://localhost:8080/"
        },
        "id": "PDD0ofMHbSgo",
        "outputId": "2813e34d-3ffd-4e29-8321-b24d2035e119"
      },
      "source": [
        "a = 15\n",
        "b = 12\n",
        "\n",
        "soma = a + b    \n",
        "subtracao = a - b\n",
        "dividir = a/b\n",
        "multiplicacao = a * b\n",
        "\n",
        "def resultado(a, b, operacao):\n",
        "    print('O resultado é:')\n",
        "    return operacao\n",
        "\n",
        "print(resultado(a=a, b=b, operacao=soma))\n",
        "print(resultado(a=a, b=12, operacao=subtracao))\n",
        "print(resultado(a=a, b=12, operacao=dividir))\n",
        "print(resultado(a=a, b=12, operacao=multiplicacao))"
      ],
      "id": "PDD0ofMHbSgo",
      "execution_count": 90,
      "outputs": [
        {
          "output_type": "stream",
          "text": [
            "O resultado é:\n",
            "27\n",
            "O resultado é:\n",
            "3\n",
            "O resultado é:\n",
            "1.25\n",
            "O resultado é:\n",
            "180\n"
          ],
          "name": "stdout"
        }
      ]
    },
    {
      "cell_type": "markdown",
      "metadata": {
        "id": "EWRSvz2om67i"
      },
      "source": [
        "5\n",
        "Tente calcular o seu IMC utilizando somente operações matemáticas. Dica: o IMC é calculado da seguinte forma: IMC = peso / (altura em metros * altura em metros)"
      ],
      "id": "EWRSvz2om67i"
    },
    {
      "cell_type": "code",
      "metadata": {
        "colab": {
          "base_uri": "https://localhost:8080/"
        },
        "id": "3ALP7PjUc90i",
        "outputId": "8a0b8fe2-2535-4c30-dcd3-70425a07a898"
      },
      "source": [
        "peso = float(input(\"Qual seu peso? \"))\n",
        "altura = float(input(\"Qual sua altura? \"))\n",
        "\n",
        "def imc(peso, altura):\n",
        "    return peso / (altura*altura)\n",
        "\n",
        "print('Seu IMC é: ', round(imc(peso=peso, altura=altura)))"
      ],
      "id": "3ALP7PjUc90i",
      "execution_count": 29,
      "outputs": [
        {
          "output_type": "stream",
          "text": [
            "Qual seu peso? 68\n",
            "Qual sua altura? 1.75\n",
            "Seu IMC é:  22\n"
          ],
          "name": "stdout"
        }
      ]
    },
    {
      "cell_type": "markdown",
      "metadata": {
        "id": "J_E3j6_6nBg8"
      },
      "source": [
        "6\n",
        "Sua professora de português pediu para você escrever a frase 'português é maravilhoso' 50 vezes. Como resolver esse problema com python? Demonstre sua solução."
      ],
      "id": "J_E3j6_6nBg8"
    },
    {
      "cell_type": "code",
      "metadata": {
        "colab": {
          "base_uri": "https://localhost:8080/"
        },
        "id": "yMSuHwlDeUAj",
        "outputId": "f1db1247-95bd-4944-aaff-103bdaf3d26d"
      },
      "source": [
        "frase = [\"português é maravilhoso\"]\n",
        "\n",
        "frase\n",
        "\n",
        "for n in range(1, 51):\n",
        "    print(frase)"
      ],
      "id": "yMSuHwlDeUAj",
      "execution_count": 67,
      "outputs": [
        {
          "output_type": "stream",
          "text": [
            "['português é maravilhoso']\n",
            "['português é maravilhoso']\n",
            "['português é maravilhoso']\n",
            "['português é maravilhoso']\n",
            "['português é maravilhoso']\n",
            "['português é maravilhoso']\n",
            "['português é maravilhoso']\n",
            "['português é maravilhoso']\n",
            "['português é maravilhoso']\n",
            "['português é maravilhoso']\n",
            "['português é maravilhoso']\n",
            "['português é maravilhoso']\n",
            "['português é maravilhoso']\n",
            "['português é maravilhoso']\n",
            "['português é maravilhoso']\n",
            "['português é maravilhoso']\n",
            "['português é maravilhoso']\n",
            "['português é maravilhoso']\n",
            "['português é maravilhoso']\n",
            "['português é maravilhoso']\n",
            "['português é maravilhoso']\n",
            "['português é maravilhoso']\n",
            "['português é maravilhoso']\n",
            "['português é maravilhoso']\n",
            "['português é maravilhoso']\n",
            "['português é maravilhoso']\n",
            "['português é maravilhoso']\n",
            "['português é maravilhoso']\n",
            "['português é maravilhoso']\n",
            "['português é maravilhoso']\n",
            "['português é maravilhoso']\n",
            "['português é maravilhoso']\n",
            "['português é maravilhoso']\n",
            "['português é maravilhoso']\n",
            "['português é maravilhoso']\n",
            "['português é maravilhoso']\n",
            "['português é maravilhoso']\n",
            "['português é maravilhoso']\n",
            "['português é maravilhoso']\n",
            "['português é maravilhoso']\n",
            "['português é maravilhoso']\n",
            "['português é maravilhoso']\n",
            "['português é maravilhoso']\n",
            "['português é maravilhoso']\n",
            "['português é maravilhoso']\n",
            "['português é maravilhoso']\n",
            "['português é maravilhoso']\n",
            "['português é maravilhoso']\n",
            "['português é maravilhoso']\n",
            "['português é maravilhoso']\n"
          ],
          "name": "stdout"
        }
      ]
    },
    {
      "cell_type": "markdown",
      "metadata": {
        "id": "h-GaqpWMnFIY"
      },
      "source": [
        "7\n",
        "Um modelo de regressão linear possui a seguinte fórmula: y=0.253*x + 125. Qual será o valor de Y quando X for 125?"
      ],
      "id": "h-GaqpWMnFIY"
    },
    {
      "cell_type": "code",
      "metadata": {
        "colab": {
          "base_uri": "https://localhost:8080/"
        },
        "id": "v8Nt-nguhtJl",
        "outputId": "6a784345-9cec-4c0a-b5b1-6e98fe378e21"
      },
      "source": [
        "formula = 'y=0.253*x + 125'\n",
        "def resultado_de_y(x):\n",
        "    resultado = 0.253*x + 125\n",
        "    return resultado\n",
        "\n",
        "print(resultado_de_y(125))\n"
      ],
      "id": "v8Nt-nguhtJl",
      "execution_count": 76,
      "outputs": [
        {
          "output_type": "stream",
          "text": [
            "156.625\n"
          ],
          "name": "stdout"
        }
      ]
    },
    {
      "cell_type": "markdown",
      "metadata": {
        "id": "iJIKyoqonLWc"
      },
      "source": [
        "8\n",
        "Cria uma variável chamada a, atribua o valor 15 para ela. Na linha abaixo escreva a = b = 15. Qual será o valor de a?"
      ],
      "id": "iJIKyoqonLWc"
    },
    {
      "cell_type": "code",
      "metadata": {
        "colab": {
          "base_uri": "https://localhost:8080/"
        },
        "id": "IcaDVQ2RjDA3",
        "outputId": "250e26be-b6bc-4d4d-eb5f-4d42be776c70"
      },
      "source": [
        "a = 15\n",
        "a = b = 15\n",
        "\n",
        "a"
      ],
      "id": "IcaDVQ2RjDA3",
      "execution_count": 77,
      "outputs": [
        {
          "output_type": "execute_result",
          "data": {
            "text/plain": [
              "15"
            ]
          },
          "metadata": {
            "tags": []
          },
          "execution_count": 77
        }
      ]
    },
    {
      "cell_type": "markdown",
      "metadata": {
        "id": "n2MsmY7inPLj"
      },
      "source": [
        "9\n",
        "É possível criar uma variável chamada 1_2_3_variavel? Se não, qual o motivo?"
      ],
      "id": "n2MsmY7inPLj"
    },
    {
      "cell_type": "code",
      "metadata": {
        "id": "YSZsjcRejS_h"
      },
      "source": [
        "# Não pois nao é possivel usar numeros no nome da variavel"
      ],
      "id": "YSZsjcRejS_h",
      "execution_count": 78,
      "outputs": []
    },
    {
      "cell_type": "markdown",
      "metadata": {
        "id": "RDuOcB8unUhK"
      },
      "source": [
        "10\n",
        "Crie uma variável chamada temp_em_graus e atribua a temperatura de hoje a ela. Crie uma segunda temp_em_f e guarde a transformação do valor da primeira variável de graus para Fahrenheit."
      ],
      "id": "RDuOcB8unUhK"
    },
    {
      "cell_type": "code",
      "metadata": {
        "colab": {
          "base_uri": "https://localhost:8080/"
        },
        "id": "sakuxzGDkNI4",
        "outputId": "2f0e150a-2b93-41fa-ece0-33fe148646c5"
      },
      "source": [
        "tem_em_f = 0\n",
        "\n",
        "def cel_fahr():\n",
        "    C = float(input('Entre com a temperatura em graus Celsius: '))\n",
        "    tem_em_f = C * (9 / 5) + 32\n",
        "    print('Valor em Fahrenheit: {0}°F'.format(tem_em_f))\n",
        "print(cel_fahr())"
      ],
      "id": "sakuxzGDkNI4",
      "execution_count": 88,
      "outputs": [
        {
          "output_type": "stream",
          "text": [
            "Entre com a temperatura em graus Celsius: 8\n",
            "Valor em Fahrenheit: 46.4°F\n",
            "None\n"
          ],
          "name": "stdout"
        }
      ]
    },
    {
      "cell_type": "code",
      "metadata": {
        "id": "vCvplXYZhqhs"
      },
      "source": [
        ""
      ],
      "id": "vCvplXYZhqhs",
      "execution_count": null,
      "outputs": []
    }
  ]
}