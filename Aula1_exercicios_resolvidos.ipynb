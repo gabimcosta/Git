{
  "nbformat": 4,
  "nbformat_minor": 5,
  "metadata": {
    "kernelspec": {
      "display_name": "Python 3",
      "language": "python",
      "name": "python3"
    },
    "language_info": {
      "codemirror_mode": {
        "name": "ipython",
        "version": 3
      },
      "file_extension": ".py",
      "mimetype": "text/x-python",
      "name": "python",
      "nbconvert_exporter": "python",
      "pygments_lexer": "ipython3",
      "version": "3.8.5"
    },
    "colab": {
      "name": "Aula1_exercicios_resolvidos.ipynb",
      "provenance": [],
      "include_colab_link": true
    }
  },
  "cells": [
    {
      "cell_type": "markdown",
      "metadata": {
        "id": "view-in-github",
        "colab_type": "text"
      },
      "source": [
        "<a href=\"https://colab.research.google.com/github/gabimcosta/Git/blob/Adicionado1/Aula1_exercicios_resolvidos.ipynb\" target=\"_parent\"><img src=\"https://colab.research.google.com/assets/colab-badge.svg\" alt=\"Open In Colab\"/></a>"
      ]
    },
    {
      "cell_type": "markdown",
      "metadata": {
        "id": "37e4da29"
      },
      "source": [
        "# Exercícios - Aula 01\n",
        "___\n",
        "\n",
        "1. Crie um algoritmo que represente a árvore abaixo.\n",
        "\n",
        "![](https://github.com/nasserboan/ferramentas-python/blob/master/imgs/arvore.png?raw=1)\n",
        "\n",
        "1.1 Quando x = 'bacon', y = [1,2,3,4,5,6,7,8,9,10,'a','b','c','d','e','f','g','h'] e z = 15. Qual valor o programa deverá printar?\n",
        "\n",
        "1.2 Quando x='couxeiro', y = [[1,2,3,4,5],[1,2,3,4,5],[1,2,3,4,5]] e z = 21. Qual valor o programa deverá printar?\n",
        "\n",
        "2. Crie um algoritmo que avalia se um número é ou não divisível por 5. Em caso positivo print 'Fizz' e em caso negativo print 'Buzz'.\n",
        "\n",
        "3. Crie um algoritmo que avalia duas condições, a primeira condição testa se a variável ```x``` é par, a segunda condição avalia se a variável ```y``` é maior que 10, una as duas condições utilizando o operador lógico ```and```. Atribua pelo menos 4 valores diferentes para ```x``` e ```y``` e dê print no resultado.\n",
        "\n",
        "4. Crie um algoritmo que avalia duas condições, a primeira condição testa se a variável ```x``` é divisível por 5.5, a segunda condição avalia se a variável ```y``` é menor ou igual a 5, una as duas condições utilizando o operador lógico ```or```. Atribua pelo menos 4 valores diferentes para ```x``` e ```y``` e dê print no resultado.\n",
        "\n",
        "5. Uma escola tem a seguintes regras de avaliação:\n",
        "* Notas abaixo de 24 -> F\n",
        "* De 25 a 44 -> E\n",
        "* De 45 a 49 -> D\n",
        "* De 50 a 59 -> C\n",
        "* De 60 a 79 -> B\n",
        "* Acima de 80 -> B\n",
        "\n",
        "Crie um algoritmo para avaliar a nota de um aluno atribuida a variável ```nota_aluno```, teste pelo menos 5 notas diferentes.\n",
        "\n",
        "6. A promoção de inverno começou na loja Magazine Luciana, aproveitando essa situação você decidiu comprar um número ```x``` de potes de Toddy, o valor de cada pote é de R\\$5.99. A loja te dará um desconto de 10% no valor total se você comprar mais do que 10 potes. Monte um algoritmo que pergunta quantos potes você quer comprar, calcula o valor total (levando em consideração os descontos) e printa o valor a ser pago pelo pedido.\n",
        "\n",
        "7. Crie um algoritmo que pergunte para o usuário a quantidade de aulas dadas em um semestre, a quantidade de aulas que ele participou. Caso o aluno tenha participado de pelo menos 75% das aulas imprima \"Aluno aprovado\", em caso negativo, imprima \"Aluno reprovado\".\n",
        "\n",
        "8. Crie um algoritmo que avalie se um ano ```ano_corrente``` é ou não ano bissexto. Teste com pelo menos 5 anos."
      ],
      "id": "37e4da29"
    },
    {
      "cell_type": "markdown",
      "metadata": {
        "id": "y7z65e4XuvG1"
      },
      "source": [
        "EXERCICIO 1.1\n",
        "\n",
        "Quando x = 'bacon', y = [1,2,3,4,5,6,7,8,9,10,'a','b','c','d','e','f','g','h'] e z = 15. Qual valor o programa deverá printar?"
      ],
      "id": "y7z65e4XuvG1"
    },
    {
      "cell_type": "code",
      "metadata": {
        "colab": {
          "base_uri": "https://localhost:8080/"
        },
        "id": "qndiGykimtab",
        "outputId": "760c932f-a0a2-4580-ce4e-8a8b84fbc84f"
      },
      "source": [
        "x = 'bacon' \n",
        "y = [1,2,3,4,5,6,7,8,9,10,'a','b','c','d','e','f','g','h']\n",
        "z = 10\n",
        "\n",
        "if x[0] == 'b' and len(y) >= 15 and z % 2 == 0: # criada a logica para as validacoes\n",
        "    print('Resultado1')\n",
        "else:\n",
        "    print('Resultado2')\n",
        "\n",
        "if x[0] != 'b' and x[1] == 'a':\n",
        "    print('Resultado1')\n",
        "else:\n",
        "    print('Resultado2')\n"
      ],
      "id": "qndiGykimtab",
      "execution_count": 20,
      "outputs": [
        {
          "output_type": "stream",
          "text": [
            "Resultado1\n",
            "Resultado2\n"
          ],
          "name": "stdout"
        }
      ]
    },
    {
      "cell_type": "markdown",
      "metadata": {
        "id": "3a6Pu6DaPqM7"
      },
      "source": [
        "EXERCICIO 1.2\n",
        "\n",
        "Quando x='couxeiro', y = [[1,2,3,4,5],[1,2,3,4,5],[1,2,3,4,5]] e z = 21. Qual valor o programa deverá printar?"
      ],
      "id": "3a6Pu6DaPqM7"
    },
    {
      "cell_type": "code",
      "metadata": {
        "id": "czIo9AF4tZB-",
        "colab": {
          "base_uri": "https://localhost:8080/"
        },
        "outputId": "d29135b9-d803-4b0a-a0db-789526c182e9"
      },
      "source": [
        "x = 'couxeiro'\n",
        "y = [[1,2,3,4,5],[1,2,3,4,5],[1,2,3,4,5]]\n",
        "z = 21\n",
        "\n",
        "\n",
        "if x[0] == 'b' and len(y) >= 15 and z % 2 == 0: # criada a logica para as validacoes\n",
        "    print('Resultado1')\n",
        "else:\n",
        "    print('Resultado2')\n",
        "\n",
        "if x[0] != 'b' and x[1] == 'a':\n",
        "    print('Resultado1')\n",
        "else:\n",
        "    print('Resultado2')"
      ],
      "id": "czIo9AF4tZB-",
      "execution_count": 21,
      "outputs": [
        {
          "output_type": "stream",
          "text": [
            "Resultado2\n",
            "Resultado2\n"
          ],
          "name": "stdout"
        }
      ]
    },
    {
      "cell_type": "markdown",
      "metadata": {
        "id": "2jTiINQLvQhK"
      },
      "source": [
        "EXERCICIO 2\n",
        "\n",
        "Crie um algoritmo que avalia se um número é ou não divisível por 5. Em caso positivo print 'Fizz' e em caso negativo print 'Buzz'."
      ],
      "id": "2jTiINQLvQhK"
    },
    {
      "cell_type": "code",
      "metadata": {
        "id": "GhFZ8hhtvBh_",
        "colab": {
          "base_uri": "https://localhost:8080/"
        },
        "outputId": "53427114-2520-4cd3-fe10-5203744676f6"
      },
      "source": [
        "x = int(input('Consulte se nº é divisivel por 5: '))\n",
        "\n",
        "if x % 5 == 0:\n",
        "    print('Fizz')\n",
        "else:\n",
        "    print('Buzz')"
      ],
      "id": "GhFZ8hhtvBh_",
      "execution_count": null,
      "outputs": [
        {
          "output_type": "stream",
          "text": [
            "Consulte se nº é divisivel por 5: 20\n",
            "Fizz\n"
          ],
          "name": "stdout"
        }
      ]
    },
    {
      "cell_type": "markdown",
      "metadata": {
        "id": "OgH27mEQPeiD"
      },
      "source": [
        "EXERCICIO 3"
      ],
      "id": "OgH27mEQPeiD"
    },
    {
      "cell_type": "markdown",
      "metadata": {
        "id": "YcxpxirNQiYP"
      },
      "source": [
        "Crie um algoritmo que avalia duas condições, a primeira condição testa se a variável x é par, a segunda condição avalia se a variável y é maior que 10, una as duas condições utilizando o operador lógico and. Atribua pelo menos 4 valores diferentes para x e y e dê print no resultado"
      ],
      "id": "YcxpxirNQiYP"
    },
    {
      "cell_type": "code",
      "metadata": {
        "id": "VZkAHuIEwE-m",
        "colab": {
          "base_uri": "https://localhost:8080/"
        },
        "outputId": "e070d59d-6bfa-47f4-868f-b0e92eea479d"
      },
      "source": [
        "x = 2\n",
        "y = 10\n",
        "\n",
        "if x % 2 == 0 and y >= 10:\n",
        "    print('verdadeiro')\n",
        "else: \n",
        "    print('falso')"
      ],
      "id": "VZkAHuIEwE-m",
      "execution_count": null,
      "outputs": [
        {
          "output_type": "stream",
          "text": [
            "verdadeiro\n"
          ],
          "name": "stdout"
        }
      ]
    },
    {
      "cell_type": "markdown",
      "metadata": {
        "id": "T5kzX8mULOtB"
      },
      "source": [
        "EXERCÍCIO 4\n",
        "\n",
        "Crie um algoritmo que avalia duas condições, a primeira condição testa se a variável x é divisível por 5.5, a segunda condição avalia se a variável y é menor ou igual a 5, una as duas condições utilizando o operador lógico or. Atribua pelo menos 4 valores diferentes para x e y e dê print no resultado"
      ],
      "id": "T5kzX8mULOtB"
    },
    {
      "cell_type": "code",
      "metadata": {
        "colab": {
          "base_uri": "https://localhost:8080/"
        },
        "id": "1Yp8FevFKqJI",
        "outputId": "682c315c-4730-4072-f1c9-c4712afb433e"
      },
      "source": [
        "x = int(input('Digite o valor de x:  '))\n",
        "y = int(input('Digite o valor de y:  '))\n",
        "\n",
        "if x % 5.5 == 0 or y <= 5:\n",
        "    print('Correto ')\n",
        "else:\n",
        "    print('Errado')"
      ],
      "id": "1Yp8FevFKqJI",
      "execution_count": 23,
      "outputs": [
        {
          "output_type": "stream",
          "text": [
            "Digite o valor de x:  11\n",
            "Digite o valor de y:  3\n",
            "Correto \n"
          ],
          "name": "stdout"
        }
      ]
    },
    {
      "cell_type": "markdown",
      "metadata": {
        "id": "D7FG_VMaMwew"
      },
      "source": [
        "EXERCICIO 5\n",
        "\n",
        "Uma escola tem a seguintes regras de avaliação:\n",
        "\n",
        "Notas abaixo de 24 -> F\n",
        "De 25 a 44 -> E\n",
        "De 45 a 49 -> D\n",
        "De 50 a 59 -> C\n",
        "De 60 a 79 -> B\n",
        "Acima de 80 -> B\n",
        "Crie um algoritmo para avaliar a nota de um aluno atribuida a variável nota_aluno, teste pelo menos 5 notas diferentes\n"
      ],
      "id": "D7FG_VMaMwew"
    },
    {
      "cell_type": "code",
      "metadata": {
        "colab": {
          "base_uri": "https://localhost:8080/"
        },
        "id": "s2LpV7gjLv1n",
        "outputId": "2844ff19-3168-4fcd-e96c-8cae84985f1c"
      },
      "source": [
        "nota_do_aluno = int(input('Digite a pontuação atingida: '))\n",
        "\n",
        "\n",
        "if nota_do_aluno < 24:\n",
        "    print('F')\n",
        "elif nota_do_aluno >= 25 and nota_do_aluno <= 44:\n",
        "    print('E')\n",
        "elif nota_do_aluno >= 45 and nota_do_aluno <= 49:\n",
        "    print('D')\n",
        "elif nota_do_aluno >= 50 and nota_do_aluno <= 59:\n",
        "    print('C')\n",
        "elif nota_do_aluno >= 60 and nota_do_aluno <= 79:\n",
        "    print('B')\n",
        "elif nota_do_aluno >= 80:\n",
        "    print('B')\n",
        "\n"
      ],
      "id": "s2LpV7gjLv1n",
      "execution_count": null,
      "outputs": [
        {
          "output_type": "stream",
          "text": [
            "Digite a pontuação atingida: 55\n",
            "C\n"
          ],
          "name": "stdout"
        }
      ]
    },
    {
      "cell_type": "markdown",
      "metadata": {
        "id": "FGhb4D5zcGgn"
      },
      "source": [
        "EXERCICIO 6\n",
        "\n",
        "A promoção de inverno começou na loja Magazine Luciana, aproveitando essa situação você decidiu comprar um número x de potes de Toddy, o valor de cada pote é de R$5.99. A loja te dará um desconto de 10% no valor total se você comprar mais do que 10 potes. Monte um algoritmo que pergunta quantos potes você quer comprar, calcula o valor total (levando em consideração os descontos) e printa o valor a ser pago pelo pedido."
      ],
      "id": "FGhb4D5zcGgn"
    },
    {
      "cell_type": "code",
      "metadata": {
        "colab": {
          "base_uri": "https://localhost:8080/"
        },
        "id": "MlYGDFVQbvpl",
        "outputId": "7b0eb525-887d-4192-9473-742e8d9539e3"
      },
      "source": [
        "n_potes = int(input('Quantos potes? '))\n",
        "valor_pote = float(5.99)\n",
        "valor_total = n_potes * valor_pote\n",
        "\n",
        "if n_potes >= 10:\n",
        "    valor_total*0.90\n",
        "    print(valor_total*0.90)\n",
        "else: \n",
        "    print(valor_total*1)\n"
      ],
      "id": "MlYGDFVQbvpl",
      "execution_count": null,
      "outputs": [
        {
          "output_type": "stream",
          "text": [
            "Quantos potes? 11\n",
            "59.301\n"
          ],
          "name": "stdout"
        }
      ]
    },
    {
      "cell_type": "markdown",
      "metadata": {
        "id": "w9SFU6IOijbk"
      },
      "source": [
        "EXERCICIO 7\n",
        "\n",
        "Crie um algoritmo que pergunte para o usuário a quantidade de aulas dadas em um semestre, a quantidade de aulas que ele participou. Caso o aluno tenha participado de pelo menos 75% das aulas imprima \"Aluno aprovado\", em caso negativo, imprima \"Aluno reprovado\"."
      ],
      "id": "w9SFU6IOijbk"
    },
    {
      "cell_type": "code",
      "metadata": {
        "colab": {
          "base_uri": "https://localhost:8080/"
        },
        "id": "_St1wIg5dd2g",
        "outputId": "552d5a83-b244-4de9-d2ab-4ad3115abf5c"
      },
      "source": [
        "qnt_aulas_dadas = int(input('Quantas aulas foram dadas no semestre? : '))\n",
        "qnt_aulas_assistidas = int(input('Quantidade de aulas assistidas? :'))\n",
        "\n",
        "aproveitamento = qnt_aulas_assistidas / qnt_aulas_dadas\n",
        "\n",
        "if aproveitamento >= 0.75:\n",
        "    print('Aluno aprovado')\n",
        "else: \n",
        "    print('Aluno reprovado')\n",
        "\n"
      ],
      "id": "_St1wIg5dd2g",
      "execution_count": null,
      "outputs": [
        {
          "output_type": "stream",
          "text": [
            "Quantas aulas foram dadas no semestre? : 20\n",
            "Quantidade de aulas assistidas? :15\n",
            "Aluno aprovado\n"
          ],
          "name": "stdout"
        }
      ]
    },
    {
      "cell_type": "markdown",
      "metadata": {
        "id": "EGCcyKyIL-ol"
      },
      "source": [
        "EXERCÍCIO 8\n",
        "\n",
        "Crie um algoritmo que avalie se um ano ano_corrente é ou não ano bissexto. Teste com pelo menos 5 anos"
      ],
      "id": "EGCcyKyIL-ol"
    },
    {
      "cell_type": "code",
      "metadata": {
        "colab": {
          "base_uri": "https://localhost:8080/"
        },
        "id": "fWsSEXpQLeSc",
        "outputId": "2e85583c-e532-4fa2-ba48-458b36800a35"
      },
      "source": [
        "ano = int(input('Digite o ano: '))\n",
        "\n",
        "if ano % 4 == 0 and ano % 100 != 0 or ano % 400 == 0:\n",
        "    print('É ano Bissexto')\n",
        "else: \n",
        "    print('Não é ano bissexto')"
      ],
      "id": "fWsSEXpQLeSc",
      "execution_count": null,
      "outputs": [
        {
          "output_type": "stream",
          "text": [
            "Digite o ano: 2006\n",
            "Não é ano bissexto\n"
          ],
          "name": "stdout"
        }
      ]
    }
  ]
}